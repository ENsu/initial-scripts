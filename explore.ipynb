{
 "cells": [
  {
   "cell_type": "code",
   "execution_count": 4,
   "metadata": {},
   "outputs": [
    {
     "name": "stdout",
     "output_type": "stream",
     "text": [
      "The autoreload extension is already loaded. To reload it, use:\n",
      "  %reload_ext autoreload\n"
     ]
    }
   ],
   "source": [
    "%load_ext autoreload\n",
    "%autoreload 2"
   ]
  },
  {
   "cell_type": "code",
   "execution_count": 5,
   "metadata": {},
   "outputs": [],
   "source": [
    "from google.cloud import storage\n",
    "from google.cloud.storage.bucket import Bucket\n",
    "\n",
    "from initial import parse_company_page, post_process_company_df, parse_round_page, post_process_round_df, parse_investor_page, post_process_investor_df, parse_acquisition_page, post_process_acquisition_df, map_company_status, map_acq_amount_to_num\n",
    "import pandas as pd\n",
    "from tqdm.notebook import tqdm\n",
    "from utils import get_base_domain, cleanup_prefectur_info, get_usd, split2row_with_index, json_col_to_df, export_to_s3, validate_datetime_str_format, validate_date_str_format\n",
    "from cb import generate_cb_uuid\n",
    "from datetime import datetime\n",
    "from loguru import logger\n",
    "\n",
    "\n",
    "pd.options.display.max_columns = 999"
   ]
  },
  {
   "cell_type": "code",
   "execution_count": 3,
   "metadata": {},
   "outputs": [],
   "source": [
    "client = storage.Client()\n",
    "bucket: Bucket = client.get_bucket(\"initial-htmls\")"
   ]
  },
  {
   "cell_type": "code",
   "execution_count": 17,
   "metadata": {},
   "outputs": [
    {
     "data": {
      "application/vnd.jupyter.widget-view+json": {
       "model_id": "80e5fe24c9c64ad7807a6806e8841600",
       "version_major": 2,
       "version_minor": 0
      },
      "text/plain": [
       "  0%|          | 0/8502 [00:00<?, ?it/s]"
      ]
     },
     "metadata": {},
     "output_type": "display_data"
    },
    {
     "name": "stdout",
     "output_type": "stream",
     "text": [
      "8502\n"
     ]
    },
    {
     "data": {
      "text/html": [
       "<div>\n",
       "<style scoped>\n",
       "    .dataframe tbody tr th:only-of-type {\n",
       "        vertical-align: middle;\n",
       "    }\n",
       "\n",
       "    .dataframe tbody tr th {\n",
       "        vertical-align: top;\n",
       "    }\n",
       "\n",
       "    .dataframe thead th {\n",
       "        text-align: right;\n",
       "    }\n",
       "</style>\n",
       "<table border=\"1\" class=\"dataframe\">\n",
       "  <thead>\n",
       "    <tr style=\"text-align: right;\">\n",
       "      <th></th>\n",
       "      <th>Company name</th>\n",
       "      <th>website</th>\n",
       "      <th>address</th>\n",
       "      <th>founded date</th>\n",
       "      <th>kinds</th>\n",
       "      <th>attributes</th>\n",
       "      <th>alias</th>\n",
       "      <th>snss</th>\n",
       "      <th>Company url</th>\n",
       "      <th>_timestamp</th>\n",
       "    </tr>\n",
       "  </thead>\n",
       "  <tbody>\n",
       "    <tr>\n",
       "      <th>0</th>\n",
       "      <td>Hokkaido Venture Capital, Inc.</td>\n",
       "      <td>http://www.hokkaido-vc.com/</td>\n",
       "      <td>NCO Sapporo Station North Exit 2F, 2-20 Kitash...</td>\n",
       "      <td>August 1999</td>\n",
       "      <td>VCs</td>\n",
       "      <td>Independent</td>\n",
       "      <td>HVC Co., Ltd. (former)</td>\n",
       "      <td>[]</td>\n",
       "      <td>/investors/1</td>\n",
       "      <td>1679992252661</td>\n",
       "    </tr>\n",
       "    <tr>\n",
       "      <th>1</th>\n",
       "      <td>Resona Capital Co., Ltd.</td>\n",
       "      <td>https://www.resona-gr.co.jp/resonacapital/</td>\n",
       "      <td>Fukagawa Gatharia Tower S Building 16F, 1-5-25...</td>\n",
       "      <td>March 1988</td>\n",
       "      <td>VCs</td>\n",
       "      <td>Banks, credit unions, credit unions</td>\n",
       "      <td></td>\n",
       "      <td>[]</td>\n",
       "      <td>/investors/10</td>\n",
       "      <td>1679992252661</td>\n",
       "    </tr>\n",
       "    <tr>\n",
       "      <th>2</th>\n",
       "      <td>ITOCHU Finance Corporation</td>\n",
       "      <td>http://www.itcfnc.co.jp/</td>\n",
       "      <td>2-5-1 Kita-Aoyama, Minato-ku, Tokyo Itochu Bui...</td>\n",
       "      <td>November 1993</td>\n",
       "      <td>VCs</td>\n",
       "      <td>trading company</td>\n",
       "      <td></td>\n",
       "      <td>[]</td>\n",
       "      <td>/investors/1008</td>\n",
       "      <td>1679992252661</td>\n",
       "    </tr>\n",
       "    <tr>\n",
       "      <th>3</th>\n",
       "      <td>TNP Partners, Corporation</td>\n",
       "      <td>http://www.tnp-g.jp</td>\n",
       "      <td>Shin-Yokohama SR Building 8F, 3-6-1 Shin-Yokoh...</td>\n",
       "      <td>September 2000</td>\n",
       "      <td>VCs</td>\n",
       "      <td>Independent</td>\n",
       "      <td>TSUNAMI Network Partners Co., Ltd. (former)</td>\n",
       "      <td>[]</td>\n",
       "      <td>/investors/1013</td>\n",
       "      <td>1679992252661</td>\n",
       "    </tr>\n",
       "    <tr>\n",
       "      <th>4</th>\n",
       "      <td>Knowledge Company Co., Ltd.</td>\n",
       "      <td>http://www.knowledgeco.jp/</td>\n",
       "      <td></td>\n",
       "      <td></td>\n",
       "      <td></td>\n",
       "      <td></td>\n",
       "      <td></td>\n",
       "      <td>[]</td>\n",
       "      <td>/investors/1015</td>\n",
       "      <td>1679992252661</td>\n",
       "    </tr>\n",
       "  </tbody>\n",
       "</table>\n",
       "</div>"
      ],
      "text/plain": [
       "                     Company name                                     website  \\\n",
       "0  Hokkaido Venture Capital, Inc.                 http://www.hokkaido-vc.com/   \n",
       "1        Resona Capital Co., Ltd.  https://www.resona-gr.co.jp/resonacapital/   \n",
       "2      ITOCHU Finance Corporation                    http://www.itcfnc.co.jp/   \n",
       "3       TNP Partners, Corporation                         http://www.tnp-g.jp   \n",
       "4     Knowledge Company Co., Ltd.                  http://www.knowledgeco.jp/   \n",
       "\n",
       "                                             address    founded date kinds  \\\n",
       "0  NCO Sapporo Station North Exit 2F, 2-20 Kitash...     August 1999   VCs   \n",
       "1  Fukagawa Gatharia Tower S Building 16F, 1-5-25...      March 1988   VCs   \n",
       "2  2-5-1 Kita-Aoyama, Minato-ku, Tokyo Itochu Bui...   November 1993   VCs   \n",
       "3  Shin-Yokohama SR Building 8F, 3-6-1 Shin-Yokoh...  September 2000   VCs   \n",
       "4                                                                            \n",
       "\n",
       "                            attributes  \\\n",
       "0                          Independent   \n",
       "1  Banks, credit unions, credit unions   \n",
       "2                      trading company   \n",
       "3                          Independent   \n",
       "4                                        \n",
       "\n",
       "                                         alias snss      Company url  \\\n",
       "0                       HVC Co., Ltd. (former)   []     /investors/1   \n",
       "1                                                []    /investors/10   \n",
       "2                                                []  /investors/1008   \n",
       "3  TSUNAMI Network Partners Co., Ltd. (former)   []  /investors/1013   \n",
       "4                                                []  /investors/1015   \n",
       "\n",
       "      _timestamp  \n",
       "0  1679992252661  \n",
       "1  1679992252661  \n",
       "2  1679992252661  \n",
       "3  1679992252661  \n",
       "4  1679992252661  "
      ]
     },
     "execution_count": 17,
     "metadata": {},
     "output_type": "execute_result"
    }
   ],
   "source": [
    "blobs = bucket.list_blobs(prefix=\"initial.inc/investors\")\n",
    "blob_cnt = sum(1 for _ in blobs)\n",
    "\n",
    "blobs = bucket.list_blobs(prefix=\"initial.inc/investors\")\n",
    "investor_dicts = []\n",
    "\n",
    "for blob in tqdm(blobs, total=blob_cnt):\n",
    "    html_byte = blob.download_as_string()\n",
    "    my_dict = parse_investor_page(html_byte.decode('utf-8'))\n",
    "    investor_dicts.append({**my_dict, \"Company url\": '/' + '/'.join(blob.name.split(\"/\")[-3:-1]), \"_timestamp\": blob.name.split(\"/\")[-1]})\n",
    "\n",
    "investor_df = pd.DataFrame(investor_dicts)\n",
    "investor_df = investor_df[investor_df['Company url'] != '']\n",
    "print(len(investor_df))\n",
    "investor_df.head()"
   ]
  },
  {
   "cell_type": "code",
   "execution_count": null,
   "metadata": {},
   "outputs": [],
   "source": []
  }
 ],
 "metadata": {
  "kernelspec": {
   "display_name": "initial-notebooks-J4RkrtoE-py3.10",
   "language": "python",
   "name": "python3"
  },
  "language_info": {
   "codemirror_mode": {
    "name": "ipython",
    "version": 3
   },
   "file_extension": ".py",
   "mimetype": "text/x-python",
   "name": "python",
   "nbconvert_exporter": "python",
   "pygments_lexer": "ipython3",
   "version": "3.9.16"
  },
  "orig_nbformat": 4
 },
 "nbformat": 4,
 "nbformat_minor": 2
}
